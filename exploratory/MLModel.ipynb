{
 "cells": [
  {
   "cell_type": "code",
   "execution_count": 1,
   "metadata": {},
   "outputs": [],
   "source": [
    "import csv\n",
    "import numpy as np\n",
    "import pandas as pd\n",
    "from sklearn.preprocessing import StandardScaler\n",
    "from sklearn.cluster import KMeans"
   ]
  },
  {
   "cell_type": "markdown",
   "metadata": {},
   "source": [
    "Take a stock, find what cluster it is in"
   ]
  },
  {
   "cell_type": "code",
   "execution_count": 2,
   "metadata": {},
   "outputs": [],
   "source": [
    "df = pd.read_csv('CSVs/sp500_tickers_full_info.csv')"
   ]
  },
  {
   "cell_type": "code",
   "execution_count": 3,
   "metadata": {},
   "outputs": [],
   "source": [
    "numeric_columns = df.select_dtypes(include=['number'])"
   ]
  },
  {
   "cell_type": "code",
   "execution_count": 4,
   "metadata": {},
   "outputs": [],
   "source": [
    "df_numeric = df[['Ticker','sector']].join(df.select_dtypes(include=['number']))"
   ]
  },
  {
   "cell_type": "code",
   "execution_count": 5,
   "metadata": {},
   "outputs": [],
   "source": [
    "# Check for infinity or NaN values\n",
    "df_numeric = df_numeric.replace([np.inf, -np.inf], np.nan)\n",
    "# Select only numeric columns and fill NaNs with their mean\n",
    "numeric_cols = df_numeric.select_dtypes(include=[\"number\"])\n",
    "df_numeric[numeric_cols.columns] = numeric_cols.fillna(numeric_cols.mean())"
   ]
  },
  {
   "cell_type": "code",
   "execution_count": 6,
   "metadata": {},
   "outputs": [
    {
     "name": "stdout",
     "output_type": "stream",
     "text": [
      "Reduced features from 101 to 58\n"
     ]
    }
   ],
   "source": [
    "# Create a correlation matrix\n",
    "numeric_features = df_numeric.drop(columns=[\"Ticker\", \"sector\"])\n",
    "correlation_matrix = numeric_features.corr().abs()\n",
    "\n",
    "# Select upper triangle of correlation matrix\n",
    "upper_triangle = correlation_matrix.where(\n",
    "    np.triu(np.ones(correlation_matrix.shape), k=1).astype(bool)\n",
    ")\n",
    "\n",
    "# Find features with correlation > 0.85 (adjust threshold as needed)\n",
    "high_correlation_features = [\n",
    "    column for column in upper_triangle.columns if any(upper_triangle[column] > 0.85)\n",
    "]\n",
    "\n",
    "# Drop highly correlated features\n",
    "numeric_features_reduced = numeric_features.drop(columns=high_correlation_features)\n",
    "print(f\"Reduced features from {numeric_features.shape[1]} to {numeric_features_reduced.shape[1]}\")\n"
   ]
  },
  {
   "cell_type": "code",
   "execution_count": 11,
   "metadata": {},
   "outputs": [],
   "source": [
    "from sklearn.preprocessing import StandardScaler\n",
    "from sklearn.cluster import KMeans\n",
    "\n",
    "# Scale numeric features\n",
    "scaler = StandardScaler()\n",
    "scaled_features = scaler.fit_transform(numeric_features_reduced)\n",
    "\n",
    "# Apply K-Means clustering\n",
    "kmeans = KMeans(n_clusters=75, init=\"k-means++\", random_state=42)\n",
    "df_numeric[\"Cluster\"] = kmeans.fit_predict(scaled_features)\n"
   ]
  },
  {
   "cell_type": "code",
   "execution_count": 12,
   "metadata": {},
   "outputs": [
    {
     "data": {
      "text/html": [
       "<div>\n",
       "<style scoped>\n",
       "    .dataframe tbody tr th:only-of-type {\n",
       "        vertical-align: middle;\n",
       "    }\n",
       "\n",
       "    .dataframe tbody tr th {\n",
       "        vertical-align: top;\n",
       "    }\n",
       "\n",
       "    .dataframe thead th {\n",
       "        text-align: right;\n",
       "    }\n",
       "</style>\n",
       "<table border=\"1\" class=\"dataframe\">\n",
       "  <thead>\n",
       "    <tr style=\"text-align: right;\">\n",
       "      <th></th>\n",
       "      <th>Ticker</th>\n",
       "      <th>sector</th>\n",
       "      <th>Cluster</th>\n",
       "    </tr>\n",
       "  </thead>\n",
       "  <tbody>\n",
       "    <tr>\n",
       "      <th>0</th>\n",
       "      <td>MMM</td>\n",
       "      <td>Industrials</td>\n",
       "      <td>69</td>\n",
       "    </tr>\n",
       "    <tr>\n",
       "      <th>1</th>\n",
       "      <td>AOS</td>\n",
       "      <td>Industrials</td>\n",
       "      <td>69</td>\n",
       "    </tr>\n",
       "    <tr>\n",
       "      <th>2</th>\n",
       "      <td>ABT</td>\n",
       "      <td>Healthcare</td>\n",
       "      <td>71</td>\n",
       "    </tr>\n",
       "    <tr>\n",
       "      <th>3</th>\n",
       "      <td>ABBV</td>\n",
       "      <td>Healthcare</td>\n",
       "      <td>12</td>\n",
       "    </tr>\n",
       "    <tr>\n",
       "      <th>4</th>\n",
       "      <td>ACN</td>\n",
       "      <td>Technology</td>\n",
       "      <td>51</td>\n",
       "    </tr>\n",
       "  </tbody>\n",
       "</table>\n",
       "</div>"
      ],
      "text/plain": [
       "  Ticker       sector  Cluster\n",
       "0    MMM  Industrials       69\n",
       "1    AOS  Industrials       69\n",
       "2    ABT   Healthcare       71\n",
       "3   ABBV   Healthcare       12\n",
       "4    ACN   Technology       51"
      ]
     },
     "execution_count": 12,
     "metadata": {},
     "output_type": "execute_result"
    }
   ],
   "source": [
    "df_numeric_with_cluster = df[[\"Ticker\", \"sector\"]].join(df_numeric[[\"Cluster\"]])\n",
    "df_numeric_with_cluster.head()"
   ]
  },
  {
   "cell_type": "code",
   "execution_count": 13,
   "metadata": {},
   "outputs": [
    {
     "data": {
      "text/plain": [
       "18    40\n",
       "13    34\n",
       "12    26\n",
       "10    25\n",
       "71    24\n",
       "      ..\n",
       "61     1\n",
       "7      1\n",
       "43     1\n",
       "37     1\n",
       "53     1\n",
       "Name: Cluster, Length: 75, dtype: int64"
      ]
     },
     "execution_count": 13,
     "metadata": {},
     "output_type": "execute_result"
    }
   ],
   "source": [
    "# Compute and sort cluster distribution\n",
    "cluster_distribution = df_numeric_with_cluster[\"Cluster\"].value_counts().sort_values(ascending=False)\n",
    "cluster_distribution"
   ]
  },
  {
   "cell_type": "code",
   "execution_count": 14,
   "metadata": {},
   "outputs": [
    {
     "data": {
      "text/plain": [
       "27"
      ]
     },
     "execution_count": 14,
     "metadata": {},
     "output_type": "execute_result"
    }
   ],
   "source": [
    "(cluster_distribution == 1).astype(int).sum()"
   ]
  },
  {
   "cell_type": "code",
   "execution_count": 15,
   "metadata": {},
   "outputs": [
    {
     "data": {
      "image/png": "[encoded data removed]",
      "text/plain": [
       "<Figure size 720x432 with 1 Axes>"
      ]
     },
     "metadata": {
      "needs_background": "light"
     },
     "output_type": "display_data"
    }
   ],
   "source": [
    "import matplotlib.pyplot as plt\n",
    "\n",
    "# Plot cluster distribution (sorted)\n",
    "plt.figure(figsize=(10, 6))\n",
    "cluster_distribution.plot(kind=\"bar\", color=\"skyblue\")\n",
    "plt.title(\"Cluster Distribution (Sorted by Size)\")\n",
    "plt.xlabel(\"Cluster\")\n",
    "plt.ylabel(\"Number of Data Points\")\n",
    "plt.xticks(rotation=0)\n",
    "plt.show()\n"
   ]
  },
  {
   "cell_type": "code",
   "execution_count": null,
   "metadata": {},
   "outputs": [
    {
     "data": {
      "text/html": [
       "<div>\n",
       "<style scoped>\n",
       "    .dataframe tbody tr th:only-of-type {\n",
       "        vertical-align: middle;\n",
       "    }\n",
       "\n",
       "    .dataframe tbody tr th {\n",
       "        vertical-align: top;\n",
       "    }\n",
       "\n",
       "    .dataframe thead th {\n",
       "        text-align: right;\n",
       "    }\n",
       "</style>\n",
       "<table border=\"1\" class=\"dataframe\">\n",
       "  <thead>\n",
       "    <tr style=\"text-align: right;\">\n",
       "      <th></th>\n",
       "      <th>Ticker</th>\n",
       "      <th>sector</th>\n",
       "      <th>Cluster</th>\n",
       "    </tr>\n",
       "  </thead>\n",
       "  <tbody>\n",
       "    <tr>\n",
       "      <th>0</th>\n",
       "      <td>MMM</td>\n",
       "      <td>Industrials</td>\n",
       "      <td>69</td>\n",
       "    </tr>\n",
       "    <tr>\n",
       "      <th>1</th>\n",
       "      <td>AOS</td>\n",
       "      <td>Industrials</td>\n",
       "      <td>69</td>\n",
       "    </tr>\n",
       "    <tr>\n",
       "      <th>8</th>\n",
       "      <td>AFL</td>\n",
       "      <td>Financial Services</td>\n",
       "      <td>69</td>\n",
       "    </tr>\n",
       "    <tr>\n",
       "      <th>108</th>\n",
       "      <td>CTAS</td>\n",
       "      <td>Industrials</td>\n",
       "      <td>69</td>\n",
       "    </tr>\n",
       "    <tr>\n",
       "      <th>118</th>\n",
       "      <td>CMCSA</td>\n",
       "      <td>Communication Services</td>\n",
       "      <td>69</td>\n",
       "    </tr>\n",
       "    <tr>\n",
       "      <th>179</th>\n",
       "      <td>EL</td>\n",
       "      <td>Consumer Defensive</td>\n",
       "      <td>69</td>\n",
       "    </tr>\n",
       "    <tr>\n",
       "      <th>199</th>\n",
       "      <td>FMC</td>\n",
       "      <td>Basic Materials</td>\n",
       "      <td>69</td>\n",
       "    </tr>\n",
       "    <tr>\n",
       "      <th>229</th>\n",
       "      <td>HSY</td>\n",
       "      <td>Consumer Defensive</td>\n",
       "      <td>69</td>\n",
       "    </tr>\n",
       "    <tr>\n",
       "      <th>236</th>\n",
       "      <td>HRL</td>\n",
       "      <td>Consumer Defensive</td>\n",
       "      <td>69</td>\n",
       "    </tr>\n",
       "    <tr>\n",
       "      <th>270</th>\n",
       "      <td>K</td>\n",
       "      <td>Consumer Defensive</td>\n",
       "      <td>69</td>\n",
       "    </tr>\n",
       "    <tr>\n",
       "      <th>288</th>\n",
       "      <td>LEN</td>\n",
       "      <td>Consumer Cyclical</td>\n",
       "      <td>69</td>\n",
       "    </tr>\n",
       "    <tr>\n",
       "      <th>307</th>\n",
       "      <td>MKC</td>\n",
       "      <td>Consumer Defensive</td>\n",
       "      <td>69</td>\n",
       "    </tr>\n",
       "    <tr>\n",
       "      <th>323</th>\n",
       "      <td>TAP</td>\n",
       "      <td>Consumer Defensive</td>\n",
       "      <td>69</td>\n",
       "    </tr>\n",
       "    <tr>\n",
       "      <th>339</th>\n",
       "      <td>NKE</td>\n",
       "      <td>Consumer Cyclical</td>\n",
       "      <td>69</td>\n",
       "    </tr>\n",
       "    <tr>\n",
       "      <th>353</th>\n",
       "      <td>ODFL</td>\n",
       "      <td>Industrials</td>\n",
       "      <td>69</td>\n",
       "    </tr>\n",
       "    <tr>\n",
       "      <th>359</th>\n",
       "      <td>PCAR</td>\n",
       "      <td>Industrials</td>\n",
       "      <td>69</td>\n",
       "    </tr>\n",
       "    <tr>\n",
       "      <th>414</th>\n",
       "      <td>SHW</td>\n",
       "      <td>Basic Materials</td>\n",
       "      <td>69</td>\n",
       "    </tr>\n",
       "  </tbody>\n",
       "</table>\n",
       "</div>"
      ],
      "text/plain": [
       "    Ticker                  sector  Cluster\n",
       "0      MMM             Industrials       69\n",
       "1      AOS             Industrials       69\n",
       "8      AFL      Financial Services       69\n",
       "108   CTAS             Industrials       69\n",
       "118  CMCSA  Communication Services       69\n",
       "179     EL      Consumer Defensive       69\n",
       "199    FMC         Basic Materials       69\n",
       "229    HSY      Consumer Defensive       69\n",
       "236    HRL      Consumer Defensive       69\n",
       "270      K      Consumer Defensive       69\n",
       "288    LEN       Consumer Cyclical       69\n",
       "307    MKC      Consumer Defensive       69\n",
       "323    TAP      Consumer Defensive       69\n",
       "339    NKE       Consumer Cyclical       69\n",
       "353   ODFL             Industrials       69\n",
       "359   PCAR             Industrials       69\n",
       "414    SHW         Basic Materials       69"
      ]
     },
     "execution_count": 16,
     "metadata": {},
     "output_type": "execute_result"
    }
   ],
   "source": [
    "df_numeric_with_cluster[df_numeric_with_cluster['Cluster'] == 69]"
   ]
  },
  {
   "cell_type": "code",
   "execution_count": 13,
   "metadata": {},
   "outputs": [],
   "source": [
    "def create_clusters():\n",
    "    df = pd.read_csv('sp500_tickers_full_info.csv')\n",
    "    numeric_columns = df.select_dtypes(include=['number'])\n",
    "    df_numeric = df[['Ticker','sector']].join(df.select_dtypes(include=['number']))\n",
    "    df_numeric = df_numeric.replace([np.inf, -np.inf], np.nan)\n",
    "    # Select only numeric columns and fill NaNs with their mean\n",
    "    numeric_cols = df_numeric.select_dtypes(include=[\"number\"])\n",
    "    df_numeric[numeric_cols.columns] = numeric_cols.fillna(numeric_cols.mean())\n",
    "\n",
    "    numeric_features = df_numeric.drop(columns=[\"Ticker\", \"sector\"])\n",
    "    correlation_matrix = numeric_features.corr().abs()\n",
    "\n",
    "    # Select upper triangle of correlation matrix\n",
    "    upper_triangle = correlation_matrix.where(\n",
    "        np.triu(np.ones(correlation_matrix.shape), k=1).astype(bool)\n",
    "    )\n",
    "\n",
    "    # Find features with correlation > 0.85 (adjust threshold as needed)\n",
    "    high_correlation_features = [\n",
    "        column for column in upper_triangle.columns if any(upper_triangle[column] > 0.85)\n",
    "    ]\n",
    "\n",
    "    # Drop highly correlated features\n",
    "    numeric_features_reduced = numeric_features.drop(columns=high_correlation_features)\n",
    "\n",
    "    ###Kmeans\n",
    "    # Scale numeric features\n",
    "    scaler = StandardScaler()\n",
    "    scaled_features = scaler.fit_transform(numeric_features_reduced)\n",
    "\n",
    "    # Apply K-Means clustering\n",
    "    kmeans = KMeans(n_clusters=75, init=\"k-means++\", random_state=42)\n",
    "    df_numeric[\"Cluster\"] = kmeans.fit_predict(scaled_features)\n",
    "\n",
    "    df_numeric_with_cluster = df[[\"Ticker\", \"sector\"]].join(df_numeric[[\"Cluster\"]])\n",
    "\n",
    "    return df_numeric_with_cluster"
   ]
  },
  {
   "cell_type": "code",
   "execution_count": 14,
   "metadata": {},
   "outputs": [],
   "source": [
    "def SimiliarCompany(ticker, cluster_df):\n",
    "\n",
    "    company_cluster = cluster_df[cluster_df['Ticker'] == ticker]['Cluster'].iloc[0]\n",
    "    companies_in_cluster = cluster_df[cluster_df['Cluster'] == company_cluster]\n",
    "    if companies_in_cluster.shape[0] == 1:\n",
    "        return [ticker],[ticker]\n",
    "    similiar_companies_list = companies_in_cluster['Ticker'].tolist()\n",
    "\n",
    "    company_industry = cluster_df[cluster_df['Ticker'] == ticker]['sector'].iloc[0]\n",
    "    companies_in_Sector = companies_in_cluster[companies_in_cluster['sector'] == company_industry]\n",
    "    similiar_sector_list = companies_in_Sector['Ticker'].tolist()\n",
    "\n",
    "    if ticker in similiar_companies_list:\n",
    "        similiar_companies_list.remove(ticker)\n",
    "    if ticker in similiar_sector_list:\n",
    "        similiar_sector_list.remove(ticker)\n",
    "\n",
    "    return similiar_companies_list, similiar_sector_list"
   ]
  },
  {
   "cell_type": "code",
   "execution_count": 18,
   "metadata": {},
   "outputs": [],
   "source": [
    "test = SimiliarCompany(\"MMM\", create_clusters())"
   ]
  },
  {
   "cell_type": "code",
   "execution_count": 20,
   "metadata": {},
   "outputs": [
    {
     "data": {
      "text/plain": [
       "['AOS',\n",
       " 'AFL',\n",
       " 'CTAS',\n",
       " 'CMCSA',\n",
       " 'EL',\n",
       " 'FMC',\n",
       " 'HSY',\n",
       " 'HRL',\n",
       " 'K',\n",
       " 'LEN',\n",
       " 'MKC',\n",
       " 'TAP',\n",
       " 'NKE',\n",
       " 'ODFL',\n",
       " 'PCAR',\n",
       " 'SHW']"
      ]
     },
     "execution_count": 20,
     "metadata": {},
     "output_type": "execute_result"
    }
   ],
   "source": [
    "x,y = test\n",
    "x"
   ]
  },
  {
   "cell_type": "code",
   "execution_count": 7,
   "metadata": {},
   "outputs": [],
   "source": [
    "use_df = create_clusters()"
   ]
  },
  {
   "cell_type": "code",
   "execution_count": 12,
   "metadata": {},
   "outputs": [
    {
     "data": {
      "text/html": [
       "<div>\n",
       "<style scoped>\n",
       "    .dataframe tbody tr th:only-of-type {\n",
       "        vertical-align: middle;\n",
       "    }\n",
       "\n",
       "    .dataframe tbody tr th {\n",
       "        vertical-align: top;\n",
       "    }\n",
       "\n",
       "    .dataframe thead th {\n",
       "        text-align: right;\n",
       "    }\n",
       "</style>\n",
       "<table border=\"1\" class=\"dataframe\">\n",
       "  <thead>\n",
       "    <tr style=\"text-align: right;\">\n",
       "      <th></th>\n",
       "      <th>Ticker</th>\n",
       "      <th>sector</th>\n",
       "      <th>Cluster</th>\n",
       "    </tr>\n",
       "  </thead>\n",
       "  <tbody>\n",
       "    <tr>\n",
       "      <th>222</th>\n",
       "      <td>GS</td>\n",
       "      <td>Financial Services</td>\n",
       "      <td>3</td>\n",
       "    </tr>\n",
       "  </tbody>\n",
       "</table>\n",
       "</div>"
      ],
      "text/plain": [
       "    Ticker              sector  Cluster\n",
       "222     GS  Financial Services        3"
      ]
     },
     "execution_count": 12,
     "metadata": {},
     "output_type": "execute_result"
    }
   ],
   "source": [
    "use_df[use_df['Cluster'] == 3]"
   ]
  },
  {
   "cell_type": "code",
   "execution_count": null,
   "metadata": {},
   "outputs": [],
   "source": []
  }
 ],
 "metadata": {
  "kernelspec": {
   "display_name": "base",
   "language": "python",
   "name": "python3"
  },
  "language_info": {
   "codemirror_mode": {
    "name": "ipython",
    "version": 3
   },
   "file_extension": ".py",
   "mimetype": "text/x-python",
   "name": "python",
   "nbconvert_exporter": "python",
   "pygments_lexer": "ipython3",
   "version": "3.9.12"
  }
 },
 "nbformat": 4,
 "nbformat_minor": 2
}
