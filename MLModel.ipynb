{
 "cells": [
  {
   "cell_type": "code",
   "execution_count": 1,
   "metadata": {},
   "outputs": [],
   "source": [
    "import csv\n",
    "import numpy as np\n",
    "import pandas as pd"
   ]
  },
  {
   "cell_type": "markdown",
   "metadata": {},
   "source": [
    "Take a stock, find what cluster it is in"
   ]
  },
  {
   "cell_type": "code",
   "execution_count": 2,
   "metadata": {},
   "outputs": [],
   "source": [
    "df = pd.read_csv('sp500_tickers_full_info.csv')"
   ]
  },
  {
   "cell_type": "code",
   "execution_count": 3,
   "metadata": {},
   "outputs": [],
   "source": [
    "numeric_columns = df.select_dtypes(include=['number'])"
   ]
  },
  {
   "cell_type": "code",
   "execution_count": 4,
   "metadata": {},
   "outputs": [],
   "source": [
    "df_numeric = df[['Ticker','sector']].join(df.select_dtypes(include=['number']))"
   ]
  },
  {
   "cell_type": "code",
   "execution_count": 5,
   "metadata": {},
   "outputs": [],
   "source": [
    "# Check for infinity or NaN values\n",
    "df_numeric = df_numeric.replace([np.inf, -np.inf], np.nan)\n",
    "# Select only numeric columns and fill NaNs with their mean\n",
    "numeric_cols = df_numeric.select_dtypes(include=[\"number\"])\n",
    "df_numeric[numeric_cols.columns] = numeric_cols.fillna(numeric_cols.mean())"
   ]
  },
  {
   "cell_type": "code",
   "execution_count": 6,
   "metadata": {},
   "outputs": [
    {
     "name": "stdout",
     "output_type": "stream",
     "text": [
      "Reduced features from 101 to 60\n"
     ]
    }
   ],
   "source": [
    "# Create a correlation matrix\n",
    "numeric_features = df_numeric.drop(columns=[\"Ticker\", \"sector\"])\n",
    "correlation_matrix = numeric_features.corr().abs()\n",
    "\n",
    "# Select upper triangle of correlation matrix\n",
    "upper_triangle = correlation_matrix.where(\n",
    "    np.triu(np.ones(correlation_matrix.shape), k=1).astype(bool)\n",
    ")\n",
    "\n",
    "# Find features with correlation > 0.85 (adjust threshold as needed)\n",
    "high_correlation_features = [\n",
    "    column for column in upper_triangle.columns if any(upper_triangle[column] > 0.85)\n",
    "]\n",
    "\n",
    "# Drop highly correlated features\n",
    "numeric_features_reduced = numeric_features.drop(columns=high_correlation_features)\n",
    "print(f\"Reduced features from {numeric_features.shape[1]} to {numeric_features_reduced.shape[1]}\")\n"
   ]
  },
  {
   "cell_type": "code",
   "execution_count": 7,
   "metadata": {},
   "outputs": [],
   "source": [
    "from sklearn.preprocessing import StandardScaler\n",
    "from sklearn.cluster import KMeans\n",
    "\n",
    "# Scale numeric features\n",
    "scaler = StandardScaler()\n",
    "scaled_features = scaler.fit_transform(numeric_features_reduced)\n",
    "\n",
    "# Apply K-Means clustering\n",
    "kmeans = KMeans(n_clusters=25, init=\"k-means++\", random_state=42)\n",
    "df_numeric[\"Cluster\"] = kmeans.fit_predict(scaled_features)\n"
   ]
  },
  {
   "cell_type": "code",
   "execution_count": 8,
   "metadata": {},
   "outputs": [
    {
     "data": {
      "text/html": [
       "<div>\n",
       "<style scoped>\n",
       "    .dataframe tbody tr th:only-of-type {\n",
       "        vertical-align: middle;\n",
       "    }\n",
       "\n",
       "    .dataframe tbody tr th {\n",
       "        vertical-align: top;\n",
       "    }\n",
       "\n",
       "    .dataframe thead th {\n",
       "        text-align: right;\n",
       "    }\n",
       "</style>\n",
       "<table border=\"1\" class=\"dataframe\">\n",
       "  <thead>\n",
       "    <tr style=\"text-align: right;\">\n",
       "      <th></th>\n",
       "      <th>Ticker</th>\n",
       "      <th>sector</th>\n",
       "      <th>Cluster</th>\n",
       "    </tr>\n",
       "  </thead>\n",
       "  <tbody>\n",
       "    <tr>\n",
       "      <th>0</th>\n",
       "      <td>MMM</td>\n",
       "      <td>Industrials</td>\n",
       "      <td>5</td>\n",
       "    </tr>\n",
       "    <tr>\n",
       "      <th>1</th>\n",
       "      <td>AOS</td>\n",
       "      <td>Industrials</td>\n",
       "      <td>17</td>\n",
       "    </tr>\n",
       "    <tr>\n",
       "      <th>2</th>\n",
       "      <td>ABT</td>\n",
       "      <td>Healthcare</td>\n",
       "      <td>5</td>\n",
       "    </tr>\n",
       "    <tr>\n",
       "      <th>3</th>\n",
       "      <td>ABBV</td>\n",
       "      <td>Healthcare</td>\n",
       "      <td>7</td>\n",
       "    </tr>\n",
       "    <tr>\n",
       "      <th>4</th>\n",
       "      <td>ACN</td>\n",
       "      <td>Technology</td>\n",
       "      <td>11</td>\n",
       "    </tr>\n",
       "  </tbody>\n",
       "</table>\n",
       "</div>"
      ],
      "text/plain": [
       "  Ticker       sector  Cluster\n",
       "0    MMM  Industrials        5\n",
       "1    AOS  Industrials       17\n",
       "2    ABT   Healthcare        5\n",
       "3   ABBV   Healthcare        7\n",
       "4    ACN   Technology       11"
      ]
     },
     "execution_count": 8,
     "metadata": {},
     "output_type": "execute_result"
    }
   ],
   "source": [
    "df_numeric_with_cluster = df[[\"Ticker\", \"sector\"]].join(df_numeric[[\"Cluster\"]])\n",
    "df_numeric_with_cluster.head()"
   ]
  },
  {
   "cell_type": "code",
   "execution_count": 9,
   "metadata": {},
   "outputs": [
    {
     "data": {
      "text/plain": [
       "1     94\n",
       "0     85\n",
       "7     69\n",
       "11    58\n",
       "5     51\n",
       "17    45\n",
       "2     17\n",
       "22    17\n",
       "19    14\n",
       "18    11\n",
       "24    11\n",
       "14     8\n",
       "6      5\n",
       "21     4\n",
       "13     3\n",
       "3      2\n",
       "10     1\n",
       "15     1\n",
       "12     1\n",
       "4      1\n",
       "20     1\n",
       "9      1\n",
       "8      1\n",
       "23     1\n",
       "16     1\n",
       "Name: Cluster, dtype: int64"
      ]
     },
     "execution_count": 9,
     "metadata": {},
     "output_type": "execute_result"
    }
   ],
   "source": [
    "# Compute and sort cluster distribution\n",
    "cluster_distribution = df_numeric_with_cluster[\"Cluster\"].value_counts().sort_values(ascending=False)\n",
    "cluster_distribution"
   ]
  },
  {
   "cell_type": "code",
   "execution_count": 10,
   "metadata": {},
   "outputs": [
    {
     "data": {
      "image/png": "[encoded data removed]",
      "text/plain": [
       "<Figure size 720x432 with 1 Axes>"
      ]
     },
     "metadata": {
      "needs_background": "light"
     },
     "output_type": "display_data"
    }
   ],
   "source": [
    "import matplotlib.pyplot as plt\n",
    "\n",
    "# Plot cluster distribution (sorted)\n",
    "plt.figure(figsize=(10, 6))\n",
    "cluster_distribution.plot(kind=\"bar\", color=\"skyblue\")\n",
    "plt.title(\"Cluster Distribution (Sorted by Size)\")\n",
    "plt.xlabel(\"Cluster\")\n",
    "plt.ylabel(\"Number of Data Points\")\n",
    "plt.xticks(rotation=0)\n",
    "plt.show()\n"
   ]
  },
  {
   "cell_type": "code",
   "execution_count": null,
   "metadata": {},
   "outputs": [],
   "source": []
  },
  {
   "cell_type": "code",
   "execution_count": null,
   "metadata": {},
   "outputs": [],
   "source": []
  },
  {
   "cell_type": "code",
   "execution_count": 164,
   "metadata": {},
   "outputs": [],
   "source": [
    "selected_features = [\n",
    "    \"marketCap\", \"priceToSalesTrailing12Months\", \"priceToBook\", \"returnOnAssets\",\n",
    "    \"returnOnEquity\", \"grossMargins\", \"operatingMargins\", \"profitMargins\", \"currentRatio\",\n",
    "    \"quickRatio\", \"totalRevenue\", \"revenueGrowth\", \"freeCashflow\", \"operatingCashflow\",\n",
    "    \"debtToEquity\", \"earningsQuarterlyGrowth\", \"trailingPE\", \"forwardPE\", \"dividendYield\", \"beta\"\n",
    "]\n",
    "\n",
    "# Subset the DataFrame\n",
    "clustering_data = numeric_features[selected_features]"
   ]
  },
  {
   "cell_type": "code",
   "execution_count": 167,
   "metadata": {},
   "outputs": [
    {
     "name": "stdout",
     "output_type": "stream",
     "text": [
      "28    70\n",
      "47    47\n",
      "33    44\n",
      "3     42\n",
      "20    29\n",
      "1     26\n",
      "0     25\n",
      "16    20\n",
      "32    20\n",
      "26    17\n",
      "39    15\n",
      "9     15\n",
      "31    13\n",
      "41    11\n",
      "7     11\n",
      "11     9\n",
      "44     8\n",
      "15     7\n",
      "24     7\n",
      "35     7\n",
      "30     6\n",
      "46     6\n",
      "2      5\n",
      "36     4\n",
      "6      4\n",
      "14     3\n",
      "48     2\n",
      "29     2\n",
      "5      2\n",
      "12     2\n",
      "27     2\n",
      "25     2\n",
      "40     2\n",
      "34     2\n",
      "23     1\n",
      "43     1\n",
      "19     1\n",
      "49     1\n",
      "17     1\n",
      "42     1\n",
      "8      1\n",
      "38     1\n",
      "4      1\n",
      "13     1\n",
      "37     1\n",
      "45     1\n",
      "10     1\n",
      "18     1\n",
      "22     1\n",
      "21     1\n",
      "Name: Cluster, dtype: int64\n"
     ]
    }
   ],
   "source": [
    "scaler = StandardScaler()\n",
    "scaled_features = scaler.fit_transform(clustering_data)\n",
    "# Fit K-Means clustering\n",
    "kmeans = KMeans(n_clusters=50, init=\"k-means++\", random_state=42)\n",
    "df_numeric_with_cluster[\"Cluster\"] = kmeans.fit_predict(scaled_features)\n",
    "\n",
    "# Check the cluster distribution\n",
    "print(df_numeric_with_cluster[\"Cluster\"].value_counts())"
   ]
  },
  {
   "cell_type": "code",
   "execution_count": null,
   "metadata": {},
   "outputs": [],
   "source": []
  }
 ],
 "metadata": {
  "kernelspec": {
   "display_name": "base",
   "language": "python",
   "name": "python3"
  },
  "language_info": {
   "codemirror_mode": {
    "name": "ipython",
    "version": 3
   },
   "file_extension": ".py",
   "mimetype": "text/x-python",
   "name": "python",
   "nbconvert_exporter": "python",
   "pygments_lexer": "ipython3",
   "version": "3.9.12"
  }
 },
 "nbformat": 4,
 "nbformat_minor": 2
}
